{
 "cells": [
  {
   "cell_type": "markdown",
   "metadata": {},
   "source": [
    "# PH3202 Assignment\n"
   ]
  },
  {
   "cell_type": "markdown",
   "metadata": {},
   "source": [
    "Varsha Santhaseelan(22MS111) and Adithyavarsha A S(21MS004)"
   ]
  },
  {
   "cell_type": "markdown",
   "metadata": {},
   "source": [
    "Let $d=\\frac{\\hbar}{2m\\omega}$"
   ]
  },
  {
   "cell_type": "markdown",
   "metadata": {},
   "source": [
    "Then position and momentum operators can be defined in terms of ladder operators as"
   ]
  },
  {
   "cell_type": "markdown",
   "metadata": {},
   "source": [
    "$\\hat{x}=\\frac{d}{\\sqrt{2}}(\\hat{a}+\\hat{a}^\\dagger)$"
   ]
  },
  {
   "cell_type": "markdown",
   "metadata": {},
   "source": [
    "$\\hat{p}=\\frac{i\\hbar}{d\\sqrt{2}}(\\hat{a}^\\dagger-\\hat{a})$"
   ]
  },
  {
   "cell_type": "markdown",
   "metadata": {},
   "source": [
    "1)<$\\alpha$|$\\hat{x}^3$|$\\alpha$>"
   ]
  },
  {
   "cell_type": "code",
   "execution_count": 8,
   "metadata": {
    "colab": {
     "base_uri": "https://localhost:8080/"
    },
    "id": "9hNGTZzUP1D1",
    "outputId": "514e22d0-d6de-41ee-c69f-377cf7ca4141"
   },
   "outputs": [
    {
     "name": "stdout",
     "output_type": "stream",
     "text": [
      "Third Moment of Position: sqrt(2)*d**3*(alpha**3 + 3*alpha*mod_alpha_sq + 3*alpha + 3*mod_alpha_sq*conjugate(alpha) + conjugate(alpha)**3 + 3*conjugate(alpha))/4\n"
     ]
    }
   ],
   "source": [
    "\n",
    "from sympy import symbols, sqrt, I, simplify, expand, conjugate\n",
    "\n",
    "# Define non-commutative annihilation (a) and creation (adag) operators\n",
    "a, adag = symbols('a adag', commutative=False)  # Non-commutative operators\n",
    "# Define d as a symbol \n",
    "d = symbols('d')\n",
    "# Define position operator X\n",
    "X = d*(a + adag) / sqrt(2)\n",
    "\n",
    "\n",
    "\n",
    "# Compute X^3\n",
    "X3 = expand(X**3)\n",
    "\n",
    "# Apply the commutator [a, adag] = 1\n",
    "# Apply the commutator [a, adag] = 1 repeatedly until all 'adag' are at the beginning\n",
    "while True:\n",
    "    previous_X3 = X3  # Store the expression before substitution\n",
    "\n",
    "    # Iterate and apply the commutator rule\n",
    "    for comm in [a * adag]:\n",
    "        X3 = X3.expand().subs(comm, adag * a + 1)\n",
    "\n",
    "    # Check if the expression has changed\n",
    "    if X3 == previous_X3:\n",
    "        break  # Exit the loop if no further changes occur\n",
    "# Simplify the expression\n",
    "X3 = simplify(X3)\n",
    "\n",
    "# Define coherent state properties\n",
    "alpha = symbols('alpha', complex=True)  # Coherent state parameter (complex)\n",
    "alpha_star = conjugate(alpha)  # Conjugate of alpha\n",
    "mod_alpha_sq = symbols('mod_alpha_sq', real=True, positive=True)  # |alpha|^2\n",
    "\n",
    "# Replace expectation values\n",
    "X3 = X3.subs({a: alpha, adag * a: mod_alpha_sq, adag: alpha_star})\n",
    "X3 = X3.subs({alpha * alpha_star: mod_alpha_sq, alpha_star * alpha: mod_alpha_sq})\n",
    "\n",
    "# Final simplification\n",
    "third_moment_position = (simplify(X3))\n",
    "print(\"Third Moment of Position:\", third_moment_position)"
   ]
  },
  {
   "cell_type": "markdown",
   "metadata": {
    "id": "KvGGrfDQS9EG"
   },
   "source": [
    "2)<$\\alpha$|$\\hat{p}^3$|$\\alpha$>"
   ]
  },
  {
   "cell_type": "code",
   "execution_count": 14,
   "metadata": {
    "colab": {
     "base_uri": "https://localhost:8080/"
    },
    "id": "odo3O-OMSUUC",
    "outputId": "372ace8b-c81a-41cc-fd42-79e7dab63ecf"
   },
   "outputs": [
    {
     "name": "stdout",
     "output_type": "stream",
     "text": [
      "Third Moment of Momentum: sqrt(2)*I*hbar**3*(alpha**3 - 3*alpha*mod_alpha_sq - 3*alpha + 3*mod_alpha_sq*conjugate(alpha) - conjugate(alpha)**3 + 3*conjugate(alpha))/(4*d**3)\n"
     ]
    }
   ],
   "source": [
    "\n",
    "\n",
    "from sympy import symbols, sqrt, I, simplify, expand, conjugate\n",
    "\n",
    "# Define non-commutative annihilation (a) and creation (adag) operators\n",
    "a, adag = symbols('a adag', commutative=False)  # Non-commutative operators\n",
    "# Define d and hbar as separate symbols\n",
    "d = symbols('d')  # Define d as a symbol\n",
    "hbar = symbols('hbar')  # Define hbar as a symbol\n",
    "# Define the momentum operator P\n",
    "P = (I * hbar / (sqrt(2) * d)) * (adag - a)\n",
    "\n",
    "# Compute P^3\n",
    "P3 = expand(P**3)\n",
    "\n",
    "# Apply the commutator [a, adag] = 1\n",
    "# Apply the commutator [a, adag] = 1 repeatedly until all 'adag' are at the beginning\n",
    "while True:\n",
    "    previous_P3 = P3  # Store the expression before substitution\n",
    "\n",
    "    # Iterate and apply the commutator rule\n",
    "    for comm in [a * adag]:\n",
    "        P3 = P3.expand().subs(comm, adag * a + 1)\n",
    "\n",
    "    # Check if the expression has changed\n",
    "    if P3 == previous_P3:\n",
    "        break  # Exit the loop if no further changes occur\n",
    "# Simplify the expression\n",
    "P3 = simplify(P3)\n",
    "\n",
    "# Define coherent state properties\n",
    "alpha = symbols('alpha', complex=True)  # Coherent state parameter (complex)\n",
    "alpha_star = conjugate(alpha)  # Conjugate of alpha\n",
    "mod_alpha_sq = symbols('mod_alpha_sq', real=True, positive=True)  # |alpha|^2\n",
    "\n",
    "# Replace expectation values\n",
    "P3 = P3.subs({a: alpha, adag * a: mod_alpha_sq, adag: alpha_star})\n",
    "P3 = P3.subs({alpha * alpha_star: mod_alpha_sq, alpha_star * alpha: mod_alpha_sq})\n",
    "\n",
    "# Final simplification\n",
    "third_moment_momentum = simplify(P3)\n",
    "print(\"Third Moment of Momentum:\", third_moment_momentum)"
   ]
  },
  {
   "cell_type": "markdown",
   "metadata": {},
   "source": [
    "3)<$\\alpha$|$\\hat{x}^4$|$\\alpha$>"
   ]
  },
  {
   "cell_type": "code",
   "execution_count": 9,
   "metadata": {
    "colab": {
     "base_uri": "https://localhost:8080/"
    },
    "id": "1n6inXQDS-UH",
    "outputId": "aebb9902-0773-445c-89f2-2f4fb6c4d9e7"
   },
   "outputs": [
    {
     "name": "stdout",
     "output_type": "stream",
     "text": [
      "Fourth Moment of Position: d**4*(alpha**4 + 4*alpha**2*mod_alpha_sq + 6*alpha**2 + 6*mod_alpha_sq**2 + 4*mod_alpha_sq*conjugate(alpha)**2 + 12*mod_alpha_sq + conjugate(alpha)**4 + 6*conjugate(alpha)**2 + 3)/4\n"
     ]
    }
   ],
   "source": [
    "\n",
    "from sympy import symbols, sqrt, I, simplify, expand, conjugate\n",
    "\n",
    "# Define non-commutative annihilation (a) and creation (adag) operators\n",
    "a, adag = symbols('a adag', commutative=False)  # Non-commutative operators\n",
    "# Define d as a symbol \n",
    "d = symbols('d')\n",
    "# Define position operator X\n",
    "X = d*(a + adag) / sqrt(2)\n",
    "\n",
    "# Compute X^4\n",
    "X4 = expand(X**4)\n",
    "\n",
    "# Apply the commutator [a, adag] = 1\n",
    "# Apply the commutator [a, adag] = 1 repeatedly until all 'adag' are at the beginning\n",
    "while True:\n",
    "    previous_X4 = X4  # Store the expression before substitution\n",
    "\n",
    "    # Iterate and apply the commutator rule\n",
    "    for comm in [a * adag]:\n",
    "        X4 = X4.expand().subs(comm, adag * a + 1)\n",
    "\n",
    "    # Check if the expression has changed\n",
    "    if X4 == previous_X4:\n",
    "        break  # Exit the loop if no further changes occur\n",
    "# Simplify the expression\n",
    "X4 = simplify(X4)\n",
    "\n",
    "# Define coherent state properties\n",
    "alpha = symbols('alpha', complex=True)  # Coherent state parameter (complex)\n",
    "alpha_star = conjugate(alpha)  # Conjugate of alpha\n",
    "mod_alpha_sq = symbols('mod_alpha_sq', real=True, positive=True)  # |alpha|^2\n",
    "\n",
    "# Replace expectation values\n",
    "X4 = X4.subs({a: alpha, adag * a: mod_alpha_sq, adag: alpha_star})\n",
    "X4 = X4.subs({alpha * alpha_star: mod_alpha_sq, alpha_star * alpha: mod_alpha_sq})\n",
    "\n",
    "# Final simplification\n",
    "fourth_moment_position = simplify(X4)\n",
    "print(\"Fourth Moment of Position:\", fourth_moment_position)"
   ]
  },
  {
   "cell_type": "markdown",
   "metadata": {},
   "source": [
    "4)<$\\alpha$|$\\hat{p}^4$|$\\alpha$>"
   ]
  },
  {
   "cell_type": "code",
   "execution_count": 16,
   "metadata": {
    "colab": {
     "base_uri": "https://localhost:8080/"
    },
    "id": "jS5A7VY8YQ5U",
    "outputId": "805acf6f-dca9-4b68-b62c-d6ae07501038"
   },
   "outputs": [
    {
     "name": "stdout",
     "output_type": "stream",
     "text": [
      "Fourth Moment of Momentum: hbar**4*(alpha**4 - 4*alpha**2*mod_alpha_sq - 6*alpha**2 + 6*mod_alpha_sq**2 - 4*mod_alpha_sq*conjugate(alpha)**2 + 12*mod_alpha_sq + conjugate(alpha)**4 - 6*conjugate(alpha)**2 + 3)/(4*d**4)\n"
     ]
    }
   ],
   "source": [
    "\n",
    "from sympy import symbols, sqrt, I, simplify, expand, conjugate\n",
    "\n",
    "# Define non-commutative annihilation (a) and creation (adag) operators\n",
    "a, adag = symbols('a adag', commutative=False)  # Non-commutative operators\n",
    "# Define d and hbar as separate symbols\n",
    "d = symbols('d')  # Define d as a symbol\n",
    "hbar = symbols('hbar')  # Define hbar as a symbol\n",
    "# Define the momentum operator P\n",
    "P = (I * hbar / (sqrt(2) * d)) * (adag - a)\n",
    "# Compute P^4\n",
    "P4 = expand(P**4)\n",
    "\n",
    "# Apply the commutator [a, adag] = 1\n",
    "# Apply the commutator [a, adag] = 1 repeatedly until all 'adag' are at the beginning\n",
    "while True:\n",
    "    previous_P4 = P4  # Store the expression before substitution\n",
    "\n",
    "    # Iterate and apply the commutator rule\n",
    "    for comm in [a * adag]:\n",
    "        P4 = P4.expand().subs(comm, adag * a + 1)\n",
    "\n",
    "    # Check if the expression has changed\n",
    "    if P4 == previous_P4:\n",
    "        break  # Exit the loop if no further changes occur\n",
    "# Simplify the expression\n",
    "P4 = simplify(P4)\n",
    "\n",
    "# Define coherent state properties\n",
    "alpha = symbols('alpha', complex=True)  # Coherent state parameter (complex)\n",
    "alpha_star = conjugate(alpha)  # Conjugate of alpha\n",
    "mod_alpha_sq = symbols('mod_alpha_sq', real=True, positive=True)  # |alpha|^2\n",
    "\n",
    "# Replace expectation values\n",
    "P4 = P4.subs({a: alpha, adag * a: mod_alpha_sq, adag: alpha_star})\n",
    "P4 = P4.subs({alpha * alpha_star: mod_alpha_sq, alpha_star * alpha: mod_alpha_sq})\n",
    "\n",
    "# Final simplification\n",
    "fourth_moment_momentum = simplify(P4)\n",
    "print(\"Fourth Moment of Momentum:\", fourth_moment_momentum)"
   ]
  },
  {
   "cell_type": "code",
   "execution_count": null,
   "metadata": {},
   "outputs": [],
   "source": []
  }
 ],
 "metadata": {
  "colab": {
   "provenance": []
  },
  "kernelspec": {
   "display_name": "Python 3 (ipykernel)",
   "language": "python",
   "name": "python3"
  },
  "language_info": {
   "codemirror_mode": {
    "name": "ipython",
    "version": 3
   },
   "file_extension": ".py",
   "mimetype": "text/x-python",
   "name": "python",
   "nbconvert_exporter": "python",
   "pygments_lexer": "ipython3",
   "version": "3.10.9"
  }
 },
 "nbformat": 4,
 "nbformat_minor": 1
}
